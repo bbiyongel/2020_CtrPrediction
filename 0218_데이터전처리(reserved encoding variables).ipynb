{
 "cells": [
  {
   "cell_type": "code",
   "execution_count": 1,
   "metadata": {},
   "outputs": [],
   "source": [
    "import pandas as pd\n",
    "import numpy as np\n",
    "\n",
    "%matplotlib inline\n",
    "import matplotlib.pyplot as plt\n",
    "import matplotlib as mpl\n",
    "plt.style.use('ggplot')\n",
    "%config InlineBackend.figure_format = 'retina'"
   ]
  },
  {
   "cell_type": "code",
   "execution_count": 2,
   "metadata": {},
   "outputs": [],
   "source": [
    "data = pd.read_csv('D:/데이터/IGAWorks/0203_temp.csv')"
   ]
  },
  {
   "cell_type": "code",
   "execution_count": 3,
   "metadata": {},
   "outputs": [
    {
     "data": {
      "text/html": [
       "<div>\n",
       "<style scoped>\n",
       "    .dataframe tbody tr th:only-of-type {\n",
       "        vertical-align: middle;\n",
       "    }\n",
       "\n",
       "    .dataframe tbody tr th {\n",
       "        vertical-align: top;\n",
       "    }\n",
       "\n",
       "    .dataframe thead th {\n",
       "        text-align: right;\n",
       "    }\n",
       "</style>\n",
       "<table border=\"1\" class=\"dataframe\">\n",
       "  <thead>\n",
       "    <tr style=\"text-align: right;\">\n",
       "      <th></th>\n",
       "      <th>click</th>\n",
       "      <th>event_datetime</th>\n",
       "      <th>bid_id</th>\n",
       "      <th>ssp_id</th>\n",
       "      <th>campaign_id</th>\n",
       "      <th>adset_id</th>\n",
       "      <th>placement_type</th>\n",
       "      <th>media_id</th>\n",
       "      <th>media_name</th>\n",
       "      <th>media_bundle</th>\n",
       "      <th>...</th>\n",
       "      <th>gender</th>\n",
       "      <th>marry</th>\n",
       "      <th>install_pack</th>\n",
       "      <th>cate_code</th>\n",
       "      <th>predicted_house_price</th>\n",
       "      <th>asset_index</th>\n",
       "      <th>day</th>\n",
       "      <th>hour</th>\n",
       "      <th>day_of_week</th>\n",
       "      <th>holiday</th>\n",
       "    </tr>\n",
       "  </thead>\n",
       "  <tbody>\n",
       "    <tr>\n",
       "      <td>0</td>\n",
       "      <td>0</td>\n",
       "      <td>2019-10-01 00:00:05.289</td>\n",
       "      <td>aAEDD9AeIv</td>\n",
       "      <td>SrN77Arvqh</td>\n",
       "      <td>2T5sOm2MoW</td>\n",
       "      <td>UASfSkWw7S</td>\n",
       "      <td>1pcQ3RJgQt</td>\n",
       "      <td>hkFCnTpDpn</td>\n",
       "      <td>Xbdchs5uK3</td>\n",
       "      <td>7jwRHIrTWJ</td>\n",
       "      <td>...</td>\n",
       "      <td>M</td>\n",
       "      <td>S</td>\n",
       "      <td>p27648g,p38947g,p39241g,p12968g,p10883g,p26661...</td>\n",
       "      <td>19001:3,21001:4,03003:2,22002:2,06002:4,04001:...</td>\n",
       "      <td>10000.0</td>\n",
       "      <td>NaN</td>\n",
       "      <td>1</td>\n",
       "      <td>0</td>\n",
       "      <td>Tuesday</td>\n",
       "      <td>0</td>\n",
       "    </tr>\n",
       "    <tr>\n",
       "      <td>1</td>\n",
       "      <td>0</td>\n",
       "      <td>2019-10-02 01:50:55.776</td>\n",
       "      <td>120KZBpPEp</td>\n",
       "      <td>SrN77Arvqh</td>\n",
       "      <td>2T5sOm2MoW</td>\n",
       "      <td>UASfSkWw7S</td>\n",
       "      <td>1pcQ3RJgQt</td>\n",
       "      <td>hkFCnTpDpn</td>\n",
       "      <td>Xbdchs5uK3</td>\n",
       "      <td>7jwRHIrTWJ</td>\n",
       "      <td>...</td>\n",
       "      <td>M</td>\n",
       "      <td>S</td>\n",
       "      <td>p27648g,p38947g,p39241g,p12968g,p10883g,p26661...</td>\n",
       "      <td>19001:3,21001:4,03003:2,22002:2,06002:4,04001:...</td>\n",
       "      <td>10000.0</td>\n",
       "      <td>NaN</td>\n",
       "      <td>2</td>\n",
       "      <td>1</td>\n",
       "      <td>Wednesday</td>\n",
       "      <td>0</td>\n",
       "    </tr>\n",
       "    <tr>\n",
       "      <td>2</td>\n",
       "      <td>0</td>\n",
       "      <td>2019-10-03 07:30:56.756</td>\n",
       "      <td>AMFiNF3X7r</td>\n",
       "      <td>SrN77Arvqh</td>\n",
       "      <td>2T5sOm2MoW</td>\n",
       "      <td>VgrjQr7onn</td>\n",
       "      <td>1pcQ3RJgQt</td>\n",
       "      <td>hkFCnTpDpn</td>\n",
       "      <td>Xbdchs5uK3</td>\n",
       "      <td>7jwRHIrTWJ</td>\n",
       "      <td>...</td>\n",
       "      <td>M</td>\n",
       "      <td>S</td>\n",
       "      <td>p27648g,p38947g,p39241g,p12968g,p10883g,p26661...</td>\n",
       "      <td>19001:3,21001:4,03003:2,22002:2,06002:4,04001:...</td>\n",
       "      <td>10000.0</td>\n",
       "      <td>NaN</td>\n",
       "      <td>3</td>\n",
       "      <td>7</td>\n",
       "      <td>Thursday</td>\n",
       "      <td>1</td>\n",
       "    </tr>\n",
       "    <tr>\n",
       "      <td>3</td>\n",
       "      <td>0</td>\n",
       "      <td>2019-10-07 00:15:31.816</td>\n",
       "      <td>Mza3hx3DOX</td>\n",
       "      <td>Uox85xVMSC</td>\n",
       "      <td>tNKbpmcA5g</td>\n",
       "      <td>qhiItTZT3T</td>\n",
       "      <td>kIeE1J0KCa</td>\n",
       "      <td>9bC9qJ87qL</td>\n",
       "      <td>YJ1AErf0W7</td>\n",
       "      <td>eQc8dY09AQ</td>\n",
       "      <td>...</td>\n",
       "      <td>M</td>\n",
       "      <td>S</td>\n",
       "      <td>p27648g,p38947g,p39241g,p12968g,p10883g,p26661...</td>\n",
       "      <td>19001:3,21001:4,03003:2,22002:2,06002:4,04001:...</td>\n",
       "      <td>10000.0</td>\n",
       "      <td>NaN</td>\n",
       "      <td>7</td>\n",
       "      <td>0</td>\n",
       "      <td>Monday</td>\n",
       "      <td>0</td>\n",
       "    </tr>\n",
       "    <tr>\n",
       "      <td>4</td>\n",
       "      <td>0</td>\n",
       "      <td>2019-10-09 15:01:40.412</td>\n",
       "      <td>4GbWwwNnJZ</td>\n",
       "      <td>SrN77Arvqh</td>\n",
       "      <td>2T5sOm2MoW</td>\n",
       "      <td>VgrjQr7onn</td>\n",
       "      <td>1pcQ3RJgQt</td>\n",
       "      <td>hkFCnTpDpn</td>\n",
       "      <td>Xbdchs5uK3</td>\n",
       "      <td>30Vj8EQm56</td>\n",
       "      <td>...</td>\n",
       "      <td>M</td>\n",
       "      <td>S</td>\n",
       "      <td>p27648g,p38947g,p39241g,p12968g,p10883g,p26661...</td>\n",
       "      <td>19001:3,21001:4,03003:2,22002:2,06002:4,04001:...</td>\n",
       "      <td>10000.0</td>\n",
       "      <td>NaN</td>\n",
       "      <td>9</td>\n",
       "      <td>15</td>\n",
       "      <td>Wednesday</td>\n",
       "      <td>1</td>\n",
       "    </tr>\n",
       "  </tbody>\n",
       "</table>\n",
       "<p>5 rows × 36 columns</p>\n",
       "</div>"
      ],
      "text/plain": [
       "   click           event_datetime      bid_id      ssp_id campaign_id  \\\n",
       "0      0  2019-10-01 00:00:05.289  aAEDD9AeIv  SrN77Arvqh  2T5sOm2MoW   \n",
       "1      0  2019-10-02 01:50:55.776  120KZBpPEp  SrN77Arvqh  2T5sOm2MoW   \n",
       "2      0  2019-10-03 07:30:56.756  AMFiNF3X7r  SrN77Arvqh  2T5sOm2MoW   \n",
       "3      0  2019-10-07 00:15:31.816  Mza3hx3DOX  Uox85xVMSC  tNKbpmcA5g   \n",
       "4      0  2019-10-09 15:01:40.412  4GbWwwNnJZ  SrN77Arvqh  2T5sOm2MoW   \n",
       "\n",
       "     adset_id placement_type    media_id  media_name media_bundle  ... gender  \\\n",
       "0  UASfSkWw7S     1pcQ3RJgQt  hkFCnTpDpn  Xbdchs5uK3   7jwRHIrTWJ  ...      M   \n",
       "1  UASfSkWw7S     1pcQ3RJgQt  hkFCnTpDpn  Xbdchs5uK3   7jwRHIrTWJ  ...      M   \n",
       "2  VgrjQr7onn     1pcQ3RJgQt  hkFCnTpDpn  Xbdchs5uK3   7jwRHIrTWJ  ...      M   \n",
       "3  qhiItTZT3T     kIeE1J0KCa  9bC9qJ87qL  YJ1AErf0W7   eQc8dY09AQ  ...      M   \n",
       "4  VgrjQr7onn     1pcQ3RJgQt  hkFCnTpDpn  Xbdchs5uK3   30Vj8EQm56  ...      M   \n",
       "\n",
       "  marry                                       install_pack  \\\n",
       "0     S  p27648g,p38947g,p39241g,p12968g,p10883g,p26661...   \n",
       "1     S  p27648g,p38947g,p39241g,p12968g,p10883g,p26661...   \n",
       "2     S  p27648g,p38947g,p39241g,p12968g,p10883g,p26661...   \n",
       "3     S  p27648g,p38947g,p39241g,p12968g,p10883g,p26661...   \n",
       "4     S  p27648g,p38947g,p39241g,p12968g,p10883g,p26661...   \n",
       "\n",
       "                                           cate_code predicted_house_price  \\\n",
       "0  19001:3,21001:4,03003:2,22002:2,06002:4,04001:...               10000.0   \n",
       "1  19001:3,21001:4,03003:2,22002:2,06002:4,04001:...               10000.0   \n",
       "2  19001:3,21001:4,03003:2,22002:2,06002:4,04001:...               10000.0   \n",
       "3  19001:3,21001:4,03003:2,22002:2,06002:4,04001:...               10000.0   \n",
       "4  19001:3,21001:4,03003:2,22002:2,06002:4,04001:...               10000.0   \n",
       "\n",
       "  asset_index day hour day_of_week holiday  \n",
       "0         NaN   1    0     Tuesday       0  \n",
       "1         NaN   2    1   Wednesday       0  \n",
       "2         NaN   3    7    Thursday       1  \n",
       "3         NaN   7    0      Monday       0  \n",
       "4         NaN   9   15   Wednesday       1  \n",
       "\n",
       "[5 rows x 36 columns]"
      ]
     },
     "execution_count": 3,
     "metadata": {},
     "output_type": "execute_result"
    }
   ],
   "source": [
    "data.head()"
   ]
  },
  {
   "cell_type": "code",
   "execution_count": 4,
   "metadata": {},
   "outputs": [
    {
     "name": "stdout",
     "output_type": "stream",
     "text": [
      "<class 'pandas.core.frame.DataFrame'>\n",
      "RangeIndex: 2232520 entries, 0 to 2232519\n",
      "Data columns (total 36 columns):\n",
      "click                     int64\n",
      "event_datetime            object\n",
      "bid_id                    object\n",
      "ssp_id                    object\n",
      "campaign_id               object\n",
      "adset_id                  object\n",
      "placement_type            object\n",
      "media_id                  object\n",
      "media_name                object\n",
      "media_bundle              object\n",
      "media_domain              object\n",
      "publisher_id              object\n",
      "publisher_name            object\n",
      "device_ifa                object\n",
      "device_os                 object\n",
      "device_os_version         object\n",
      "device_model              object\n",
      "device_carrier            object\n",
      "device_make               object\n",
      "device_connection_type    object\n",
      "device_language           object\n",
      "device_country            object\n",
      "device_region             object\n",
      "device_city               object\n",
      "advertisement_id          object\n",
      "age                       int64\n",
      "gender                    object\n",
      "marry                     object\n",
      "install_pack              object\n",
      "cate_code                 object\n",
      "predicted_house_price     float64\n",
      "asset_index               float64\n",
      "day                       int64\n",
      "hour                      int64\n",
      "day_of_week               object\n",
      "holiday                   int64\n",
      "dtypes: float64(2), int64(5), object(29)\n",
      "memory usage: 613.2+ MB\n"
     ]
    }
   ],
   "source": [
    "data.info()"
   ]
  },
  {
   "cell_type": "code",
   "execution_count": 5,
   "metadata": {},
   "outputs": [
    {
     "data": {
      "text/plain": [
       "Index(['click', 'event_datetime', 'bid_id', 'ssp_id', 'campaign_id',\n",
       "       'adset_id', 'placement_type', 'media_id', 'media_name', 'media_bundle',\n",
       "       'media_domain', 'publisher_id', 'publisher_name', 'device_ifa',\n",
       "       'device_os', 'device_os_version', 'device_model', 'device_carrier',\n",
       "       'device_make', 'device_connection_type', 'device_language',\n",
       "       'device_country', 'device_region', 'device_city', 'advertisement_id',\n",
       "       'age', 'gender', 'marry', 'install_pack', 'cate_code',\n",
       "       'predicted_house_price', 'asset_index', 'day', 'hour', 'day_of_week',\n",
       "       'holiday'],\n",
       "      dtype='object')"
      ]
     },
     "execution_count": 5,
     "metadata": {},
     "output_type": "execute_result"
    }
   ],
   "source": [
    "data.columns"
   ]
  },
  {
   "cell_type": "code",
   "execution_count": 6,
   "metadata": {},
   "outputs": [],
   "source": [
    "# 11일째 데이터 제외\n",
    "# 1~9일째 데이터를 train으로 10일째 클릭을 예측하는 것으로 연구 문제 변경 \n",
    "\n",
    "df = data[data['day'] != 11]"
   ]
  },
  {
   "cell_type": "code",
   "execution_count": 7,
   "metadata": {},
   "outputs": [
    {
     "data": {
      "text/plain": [
       "(2232370, 36)"
      ]
     },
     "execution_count": 7,
     "metadata": {},
     "output_type": "execute_result"
    }
   ],
   "source": [
    "df.shape"
   ]
  },
  {
   "cell_type": "code",
   "execution_count": 8,
   "metadata": {},
   "outputs": [
    {
     "name": "stdout",
     "output_type": "stream",
     "text": [
      "click : 2\n",
      "event_datetime : 2228719\n",
      "bid_id : 2232370\n",
      "ssp_id : 17\n",
      "campaign_id : 178\n",
      "adset_id : 844\n",
      "placement_type : 4\n",
      "media_id : 4041\n",
      "media_name : 4520\n",
      "media_bundle : 3881\n",
      "media_domain : 135\n",
      "publisher_id : 2808\n",
      "publisher_name : 981\n",
      "device_ifa : 767197\n",
      "device_os : 1\n",
      "device_os_version : 54\n",
      "device_model : 778\n",
      "device_carrier : 347\n",
      "device_make : 181\n",
      "device_connection_type : 8\n",
      "device_language : 23\n",
      "device_country : 1\n",
      "device_region : 130\n",
      "device_city : 983\n",
      "advertisement_id : 28\n",
      "age : 12\n",
      "gender : 2\n",
      "marry : 2\n",
      "install_pack : 767197\n",
      "cate_code : 767197\n",
      "predicted_house_price : 3466\n",
      "asset_index : 0\n",
      "day : 10\n",
      "hour : 24\n",
      "day_of_week : 7\n",
      "holiday : 2\n"
     ]
    }
   ],
   "source": [
    "for i in df.columns:\n",
    "    print(i + \" : \" + str(df[i].nunique()))"
   ]
  },
  {
   "cell_type": "markdown",
   "metadata": {},
   "source": [
    "* 모델 input 할때 drop할 변수들: 'event_datetime' , 'bid_id', 'device_os' , 'device_country', 'asset_index'\n",
    "\n",
    "* one-hot encoding: 'placement_type', 'gender'. 'day_of_week'\n",
    "\n",
    "* 범주 줄여서 one-hot encoding: 'device_connection_type'\n",
    "\n",
    "* encoding 안해도 됨: 'age'\n",
    "\n",
    "* binary encoding: 'marry'\n",
    "\n",
    "* 결측치 처리: 'predicted_house_price'"
   ]
  },
  {
   "cell_type": "markdown",
   "metadata": {},
   "source": [
    "### 1. 필요 없는 변수 drop (일단 event_datetime, bid_id는 남겨 놓기)"
   ]
  },
  {
   "cell_type": "code",
   "execution_count": 9,
   "metadata": {},
   "outputs": [],
   "source": [
    "df = df.drop(['device_os' , 'device_country', 'asset_index'] , axis=1)"
   ]
  },
  {
   "cell_type": "markdown",
   "metadata": {},
   "source": [
    "### 2. one-hot encoding"
   ]
  },
  {
   "cell_type": "code",
   "execution_count": 10,
   "metadata": {},
   "outputs": [],
   "source": [
    "df = df.join(pd.get_dummies(df['placement_type'], prefix='placement_type', drop_first=True))"
   ]
  },
  {
   "cell_type": "code",
   "execution_count": 11,
   "metadata": {},
   "outputs": [],
   "source": [
    "df = df.join(pd.get_dummies(df['gender'], prefix='gender', drop_first=True))"
   ]
  },
  {
   "cell_type": "code",
   "execution_count": 12,
   "metadata": {},
   "outputs": [],
   "source": [
    "df = df.join(pd.get_dummies(df['day_of_week'], prefix='day_of_week', drop_first=True))"
   ]
  },
  {
   "cell_type": "code",
   "execution_count": 13,
   "metadata": {},
   "outputs": [],
   "source": [
    "df = df.drop(['placement_type', 'gender', 'day_of_week'] , axis=1) # 원래 변수 drop"
   ]
  },
  {
   "cell_type": "markdown",
   "metadata": {},
   "source": [
    "### 3. 범주 줄여서 one-hot encoding"
   ]
  },
  {
   "cell_type": "code",
   "execution_count": 14,
   "metadata": {},
   "outputs": [
    {
     "data": {
      "text/plain": [
       "<matplotlib.axes._subplots.AxesSubplot at 0x24df1dd0390>"
      ]
     },
     "execution_count": 14,
     "metadata": {},
     "output_type": "execute_result"
    },
    {
     "data": {
      "image/png": "[encoded data removed]",
      "text/plain": [
       "<Figure size 864x576 with 1 Axes>"
      ]
     },
     "metadata": {
      "image/png": {
       "height": 545,
       "width": 731
      },
      "needs_background": "light"
     },
     "output_type": "display_data"
    }
   ],
   "source": [
    "temp = df.groupby('device_connection_type')['click'].value_counts()\n",
    "temp.unstack().plot.bar(stacked=True , figsize=(12,8) )"
   ]
  },
  {
   "cell_type": "code",
   "execution_count": 15,
   "metadata": {},
   "outputs": [
    {
     "data": {
      "text/plain": [
       "aEmZFzgDfq    712077\n",
       "Hx7e3tE5mu    700453\n",
       "WCK2G73H3A    613542\n",
       "2xglifxY3C    130923\n",
       "6xAYOHII8l     75196\n",
       "4sFc3rM27t       162\n",
       "aze5oiXm1V        13\n",
       "55rBbmtMui         4\n",
       "Name: device_connection_type, dtype: int64"
      ]
     },
     "execution_count": 15,
     "metadata": {},
     "output_type": "execute_result"
    }
   ],
   "source": [
    "df['device_connection_type'].value_counts()"
   ]
  },
  {
   "cell_type": "code",
   "execution_count": 16,
   "metadata": {},
   "outputs": [],
   "source": [
    "def get_device_connection_type(x):\n",
    "    if x in ['2xglifxY3C', '6xAYOHII8l','4sFc3rM27t', 'aze5oiXm1V', '55rBbmtMui']:\n",
    "        return 'else'\n",
    "    else:\n",
    "        return x"
   ]
  },
  {
   "cell_type": "code",
   "execution_count": 17,
   "metadata": {},
   "outputs": [],
   "source": [
    "df['device_connection_type'] = df['device_connection_type'].apply(get_device_connection_type)"
   ]
  },
  {
   "cell_type": "code",
   "execution_count": 18,
   "metadata": {},
   "outputs": [],
   "source": [
    "df = df.join(pd.get_dummies(df['device_connection_type'], prefix='device_connection_type', drop_first=True))"
   ]
  },
  {
   "cell_type": "code",
   "execution_count": 19,
   "metadata": {},
   "outputs": [],
   "source": [
    "df = df.drop(['device_connection_type'] , axis=1) # 원래 변수 drop"
   ]
  },
  {
   "cell_type": "markdown",
   "metadata": {},
   "source": [
    "### 4. binary encoding"
   ]
  },
  {
   "cell_type": "code",
   "execution_count": 20,
   "metadata": {},
   "outputs": [],
   "source": [
    "def get_marry(x):\n",
    "    if x == 'M':\n",
    "        return 1\n",
    "    else:\n",
    "        return 0"
   ]
  },
  {
   "cell_type": "code",
   "execution_count": 21,
   "metadata": {},
   "outputs": [
    {
     "data": {
      "text/plain": [
       "0          S\n",
       "1          S\n",
       "2          S\n",
       "3          S\n",
       "4          S\n",
       "          ..\n",
       "2232477    S\n",
       "2232478    S\n",
       "2232479    M\n",
       "2232480    M\n",
       "2232481    M\n",
       "Name: marry, Length: 2232370, dtype: object"
      ]
     },
     "execution_count": 21,
     "metadata": {},
     "output_type": "execute_result"
    }
   ],
   "source": [
    "df['marry']"
   ]
  },
  {
   "cell_type": "code",
   "execution_count": 22,
   "metadata": {},
   "outputs": [],
   "source": [
    "df['marry'] = df['marry'].apply(get_marry)"
   ]
  },
  {
   "cell_type": "markdown",
   "metadata": {},
   "source": [
    "### 5. 결측치 처리: 'predicted_house_price'"
   ]
  },
  {
   "cell_type": "code",
   "execution_count": 23,
   "metadata": {},
   "outputs": [
    {
     "data": {
      "text/plain": [
       "374422"
      ]
     },
     "execution_count": 23,
     "metadata": {},
     "output_type": "execute_result"
    }
   ],
   "source": [
    "df['predicted_house_price'].isnull().sum()"
   ]
  },
  {
   "cell_type": "code",
   "execution_count": 24,
   "metadata": {},
   "outputs": [],
   "source": [
    "temp = data[data['day'] != 11]"
   ]
  },
  {
   "cell_type": "code",
   "execution_count": 25,
   "metadata": {},
   "outputs": [],
   "source": [
    "# 연령, 성별, 기혼여부에 따라 그룹화된 그룹별 평균으로 대체\n",
    "df['predicted_house_price'] = temp.groupby(['age', 'gender', 'marry'])['predicted_house_price'].transform(lambda x: round(x.fillna(x.mean())))"
   ]
  },
  {
   "cell_type": "code",
   "execution_count": 26,
   "metadata": {},
   "outputs": [
    {
     "data": {
      "text/plain": [
       "Index(['click', 'event_datetime', 'bid_id', 'ssp_id', 'campaign_id',\n",
       "       'adset_id', 'media_id', 'media_name', 'media_bundle', 'media_domain',\n",
       "       'publisher_id', 'publisher_name', 'device_ifa', 'device_os_version',\n",
       "       'device_model', 'device_carrier', 'device_make', 'device_language',\n",
       "       'device_region', 'device_city', 'advertisement_id', 'age', 'marry',\n",
       "       'install_pack', 'cate_code', 'predicted_house_price', 'day', 'hour',\n",
       "       'holiday', 'placement_type_WnrXFsYXNs', 'placement_type_kIeE1J0KCa',\n",
       "       'placement_type_tg9mzu7kFm', 'gender_M', 'day_of_week_Monday',\n",
       "       'day_of_week_Saturday', 'day_of_week_Sunday', 'day_of_week_Thursday',\n",
       "       'day_of_week_Tuesday', 'day_of_week_Wednesday',\n",
       "       'device_connection_type_WCK2G73H3A',\n",
       "       'device_connection_type_aEmZFzgDfq', 'device_connection_type_else'],\n",
       "      dtype='object')"
      ]
     },
     "execution_count": 26,
     "metadata": {},
     "output_type": "execute_result"
    }
   ],
   "source": [
    "df.columns"
   ]
  },
  {
   "cell_type": "code",
   "execution_count": 27,
   "metadata": {},
   "outputs": [],
   "source": [
    "df.to_csv('D:/데이터/IGAWorks/reserved_encoding_data.csv' , index = False)"
   ]
  },
  {
   "cell_type": "code",
   "execution_count": null,
   "metadata": {},
   "outputs": [],
   "source": []
  }
 ],
 "metadata": {
  "kernelspec": {
   "display_name": "Python 3",
   "language": "python",
   "name": "python3"
  },
  "language_info": {
   "codemirror_mode": {
    "name": "ipython",
    "version": 3
   },
   "file_extension": ".py",
   "mimetype": "text/x-python",
   "name": "python",
   "nbconvert_exporter": "python",
   "pygments_lexer": "ipython3",
   "version": "3.7.1"
  }
 },
 "nbformat": 4,
 "nbformat_minor": 2
}

{
 "cells": [
  {
   "cell_type": "code",
   "execution_count": 1,
   "metadata": {},
   "outputs": [],
   "source": [
    "import pandas as pd\n",
    "import numpy as np\n",
    "\n",
    "%matplotlib inline\n",
    "import matplotlib.pyplot as plt\n",
    "import matplotlib as mpl\n",
    "plt.style.use('ggplot')\n",
    "%config InlineBackend.figure_format = 'retina'"
   ]
  },
  {
   "cell_type": "code",
   "execution_count": 2,
   "metadata": {},
   "outputs": [],
   "source": [
    "data = pd.read_csv('D:/데이터/IGAWorks/reserved_encoding_data.csv')"
   ]
  },
  {
   "cell_type": "code",
   "execution_count": 8,
   "metadata": {},
   "outputs": [],
   "source": [
    "df = data.copy()"
   ]
  },
  {
   "cell_type": "code",
   "execution_count": 9,
   "metadata": {},
   "outputs": [],
   "source": [
    "# 일단 범주의 개수가 70만개 이상인 변수 제거하고 진행\n",
    "df.drop(['device_ifa', 'install_pack', 'cate_code'] , axis=1, inplace=True)"
   ]
  },
  {
   "cell_type": "code",
   "execution_count": 33,
   "metadata": {},
   "outputs": [],
   "source": [
    "cat_vars = ['ssp_id', 'campaign_id', 'adset_id', 'media_id', 'media_name', 'media_bundle',\n",
    "'media_domain', 'publisher_id', 'publisher_name', 'device_os_version', \n",
    "'device_model', 'device_carrier', 'device_make',  'device_language', 'device_region', 'device_city',\n",
    " 'advertisement_id']\n",
    "\n",
    "emb_data = df[cat_vars]"
   ]
  },
  {
   "cell_type": "code",
   "execution_count": 34,
   "metadata": {},
   "outputs": [
    {
     "name": "stderr",
     "output_type": "stream",
     "text": [
      "C:\\ProgramData\\Anaconda3\\lib\\site-packages\\ipykernel_launcher.py:6: SettingWithCopyWarning: \n",
      "A value is trying to be set on a copy of a slice from a DataFrame.\n",
      "Try using .loc[row_indexer,col_indexer] = value instead\n",
      "\n",
      "See the caveats in the documentation: http://pandas.pydata.org/pandas-docs/stable/user_guide/indexing.html#returning-a-view-versus-a-copy\n",
      "  \n"
     ]
    }
   ],
   "source": [
    "from sklearn.preprocessing import LabelEncoder\n",
    "\n",
    "for i in emb_data.columns:\n",
    "    le = LabelEncoder()\n",
    "    le.fit(emb_data[i])\n",
    "    emb_data[i] = le.transform(emb_data[i])"
   ]
  },
  {
   "cell_type": "code",
   "execution_count": 35,
   "metadata": {
    "collapsed": true
   },
   "outputs": [
    {
     "data": {
      "text/html": [
       "<div>\n",
       "<style scoped>\n",
       "    .dataframe tbody tr th:only-of-type {\n",
       "        vertical-align: middle;\n",
       "    }\n",
       "\n",
       "    .dataframe tbody tr th {\n",
       "        vertical-align: top;\n",
       "    }\n",
       "\n",
       "    .dataframe thead th {\n",
       "        text-align: right;\n",
       "    }\n",
       "</style>\n",
       "<table border=\"1\" class=\"dataframe\">\n",
       "  <thead>\n",
       "    <tr style=\"text-align: right;\">\n",
       "      <th></th>\n",
       "      <th>ssp_id</th>\n",
       "      <th>campaign_id</th>\n",
       "      <th>adset_id</th>\n",
       "      <th>media_id</th>\n",
       "      <th>media_name</th>\n",
       "      <th>media_bundle</th>\n",
       "      <th>media_domain</th>\n",
       "      <th>publisher_id</th>\n",
       "      <th>publisher_name</th>\n",
       "      <th>device_os_version</th>\n",
       "      <th>device_model</th>\n",
       "      <th>device_carrier</th>\n",
       "      <th>device_make</th>\n",
       "      <th>device_language</th>\n",
       "      <th>device_region</th>\n",
       "      <th>device_city</th>\n",
       "      <th>advertisement_id</th>\n",
       "    </tr>\n",
       "  </thead>\n",
       "  <tbody>\n",
       "    <tr>\n",
       "      <td>0</td>\n",
       "      <td>7</td>\n",
       "      <td>9</td>\n",
       "      <td>413</td>\n",
       "      <td>2825</td>\n",
       "      <td>2462</td>\n",
       "      <td>485</td>\n",
       "      <td>109</td>\n",
       "      <td>738</td>\n",
       "      <td>207</td>\n",
       "      <td>32</td>\n",
       "      <td>631</td>\n",
       "      <td>326</td>\n",
       "      <td>159</td>\n",
       "      <td>1</td>\n",
       "      <td>32</td>\n",
       "      <td>631</td>\n",
       "      <td>18</td>\n",
       "    </tr>\n",
       "    <tr>\n",
       "      <td>1</td>\n",
       "      <td>7</td>\n",
       "      <td>9</td>\n",
       "      <td>413</td>\n",
       "      <td>2825</td>\n",
       "      <td>2462</td>\n",
       "      <td>485</td>\n",
       "      <td>109</td>\n",
       "      <td>738</td>\n",
       "      <td>207</td>\n",
       "      <td>32</td>\n",
       "      <td>631</td>\n",
       "      <td>326</td>\n",
       "      <td>159</td>\n",
       "      <td>1</td>\n",
       "      <td>32</td>\n",
       "      <td>631</td>\n",
       "      <td>18</td>\n",
       "    </tr>\n",
       "    <tr>\n",
       "      <td>2</td>\n",
       "      <td>7</td>\n",
       "      <td>9</td>\n",
       "      <td>441</td>\n",
       "      <td>2825</td>\n",
       "      <td>2462</td>\n",
       "      <td>485</td>\n",
       "      <td>109</td>\n",
       "      <td>738</td>\n",
       "      <td>207</td>\n",
       "      <td>32</td>\n",
       "      <td>631</td>\n",
       "      <td>326</td>\n",
       "      <td>159</td>\n",
       "      <td>1</td>\n",
       "      <td>32</td>\n",
       "      <td>631</td>\n",
       "      <td>18</td>\n",
       "    </tr>\n",
       "    <tr>\n",
       "      <td>3</td>\n",
       "      <td>8</td>\n",
       "      <td>155</td>\n",
       "      <td>714</td>\n",
       "      <td>605</td>\n",
       "      <td>2519</td>\n",
       "      <td>2541</td>\n",
       "      <td>109</td>\n",
       "      <td>1021</td>\n",
       "      <td>14</td>\n",
       "      <td>14</td>\n",
       "      <td>166</td>\n",
       "      <td>213</td>\n",
       "      <td>136</td>\n",
       "      <td>6</td>\n",
       "      <td>9</td>\n",
       "      <td>275</td>\n",
       "      <td>17</td>\n",
       "    </tr>\n",
       "    <tr>\n",
       "      <td>4</td>\n",
       "      <td>7</td>\n",
       "      <td>9</td>\n",
       "      <td>441</td>\n",
       "      <td>2825</td>\n",
       "      <td>2462</td>\n",
       "      <td>193</td>\n",
       "      <td>109</td>\n",
       "      <td>738</td>\n",
       "      <td>207</td>\n",
       "      <td>32</td>\n",
       "      <td>631</td>\n",
       "      <td>326</td>\n",
       "      <td>159</td>\n",
       "      <td>1</td>\n",
       "      <td>32</td>\n",
       "      <td>631</td>\n",
       "      <td>18</td>\n",
       "    </tr>\n",
       "    <tr>\n",
       "      <td>...</td>\n",
       "      <td>...</td>\n",
       "      <td>...</td>\n",
       "      <td>...</td>\n",
       "      <td>...</td>\n",
       "      <td>...</td>\n",
       "      <td>...</td>\n",
       "      <td>...</td>\n",
       "      <td>...</td>\n",
       "      <td>...</td>\n",
       "      <td>...</td>\n",
       "      <td>...</td>\n",
       "      <td>...</td>\n",
       "      <td>...</td>\n",
       "      <td>...</td>\n",
       "      <td>...</td>\n",
       "      <td>...</td>\n",
       "      <td>...</td>\n",
       "    </tr>\n",
       "    <tr>\n",
       "      <td>2232365</td>\n",
       "      <td>13</td>\n",
       "      <td>120</td>\n",
       "      <td>90</td>\n",
       "      <td>2921</td>\n",
       "      <td>2246</td>\n",
       "      <td>863</td>\n",
       "      <td>109</td>\n",
       "      <td>2540</td>\n",
       "      <td>928</td>\n",
       "      <td>0</td>\n",
       "      <td>273</td>\n",
       "      <td>213</td>\n",
       "      <td>136</td>\n",
       "      <td>6</td>\n",
       "      <td>32</td>\n",
       "      <td>631</td>\n",
       "      <td>1</td>\n",
       "    </tr>\n",
       "    <tr>\n",
       "      <td>2232366</td>\n",
       "      <td>13</td>\n",
       "      <td>146</td>\n",
       "      <td>349</td>\n",
       "      <td>1308</td>\n",
       "      <td>1759</td>\n",
       "      <td>1095</td>\n",
       "      <td>109</td>\n",
       "      <td>569</td>\n",
       "      <td>453</td>\n",
       "      <td>32</td>\n",
       "      <td>631</td>\n",
       "      <td>152</td>\n",
       "      <td>159</td>\n",
       "      <td>6</td>\n",
       "      <td>32</td>\n",
       "      <td>631</td>\n",
       "      <td>4</td>\n",
       "    </tr>\n",
       "    <tr>\n",
       "      <td>2232367</td>\n",
       "      <td>8</td>\n",
       "      <td>78</td>\n",
       "      <td>310</td>\n",
       "      <td>2616</td>\n",
       "      <td>4474</td>\n",
       "      <td>2314</td>\n",
       "      <td>109</td>\n",
       "      <td>1041</td>\n",
       "      <td>577</td>\n",
       "      <td>14</td>\n",
       "      <td>20</td>\n",
       "      <td>213</td>\n",
       "      <td>136</td>\n",
       "      <td>6</td>\n",
       "      <td>0</td>\n",
       "      <td>912</td>\n",
       "      <td>9</td>\n",
       "    </tr>\n",
       "    <tr>\n",
       "      <td>2232368</td>\n",
       "      <td>7</td>\n",
       "      <td>28</td>\n",
       "      <td>491</td>\n",
       "      <td>2825</td>\n",
       "      <td>2462</td>\n",
       "      <td>485</td>\n",
       "      <td>109</td>\n",
       "      <td>738</td>\n",
       "      <td>207</td>\n",
       "      <td>32</td>\n",
       "      <td>631</td>\n",
       "      <td>326</td>\n",
       "      <td>159</td>\n",
       "      <td>1</td>\n",
       "      <td>32</td>\n",
       "      <td>631</td>\n",
       "      <td>9</td>\n",
       "    </tr>\n",
       "    <tr>\n",
       "      <td>2232369</td>\n",
       "      <td>13</td>\n",
       "      <td>146</td>\n",
       "      <td>728</td>\n",
       "      <td>1308</td>\n",
       "      <td>1759</td>\n",
       "      <td>1095</td>\n",
       "      <td>109</td>\n",
       "      <td>569</td>\n",
       "      <td>453</td>\n",
       "      <td>32</td>\n",
       "      <td>631</td>\n",
       "      <td>213</td>\n",
       "      <td>159</td>\n",
       "      <td>6</td>\n",
       "      <td>32</td>\n",
       "      <td>631</td>\n",
       "      <td>4</td>\n",
       "    </tr>\n",
       "  </tbody>\n",
       "</table>\n",
       "<p>2232370 rows × 17 columns</p>\n",
       "</div>"
      ],
      "text/plain": [
       "         ssp_id  campaign_id  adset_id  media_id  media_name  media_bundle  \\\n",
       "0             7            9       413      2825        2462           485   \n",
       "1             7            9       413      2825        2462           485   \n",
       "2             7            9       441      2825        2462           485   \n",
       "3             8          155       714       605        2519          2541   \n",
       "4             7            9       441      2825        2462           193   \n",
       "...         ...          ...       ...       ...         ...           ...   \n",
       "2232365      13          120        90      2921        2246           863   \n",
       "2232366      13          146       349      1308        1759          1095   \n",
       "2232367       8           78       310      2616        4474          2314   \n",
       "2232368       7           28       491      2825        2462           485   \n",
       "2232369      13          146       728      1308        1759          1095   \n",
       "\n",
       "         media_domain  publisher_id  publisher_name  device_os_version  \\\n",
       "0                 109           738             207                 32   \n",
       "1                 109           738             207                 32   \n",
       "2                 109           738             207                 32   \n",
       "3                 109          1021              14                 14   \n",
       "4                 109           738             207                 32   \n",
       "...               ...           ...             ...                ...   \n",
       "2232365           109          2540             928                  0   \n",
       "2232366           109           569             453                 32   \n",
       "2232367           109          1041             577                 14   \n",
       "2232368           109           738             207                 32   \n",
       "2232369           109           569             453                 32   \n",
       "\n",
       "         device_model  device_carrier  device_make  device_language  \\\n",
       "0                 631             326          159                1   \n",
       "1                 631             326          159                1   \n",
       "2                 631             326          159                1   \n",
       "3                 166             213          136                6   \n",
       "4                 631             326          159                1   \n",
       "...               ...             ...          ...              ...   \n",
       "2232365           273             213          136                6   \n",
       "2232366           631             152          159                6   \n",
       "2232367            20             213          136                6   \n",
       "2232368           631             326          159                1   \n",
       "2232369           631             213          159                6   \n",
       "\n",
       "         device_region  device_city  advertisement_id  \n",
       "0                   32          631                18  \n",
       "1                   32          631                18  \n",
       "2                   32          631                18  \n",
       "3                    9          275                17  \n",
       "4                   32          631                18  \n",
       "...                ...          ...               ...  \n",
       "2232365             32          631                 1  \n",
       "2232366             32          631                 4  \n",
       "2232367              0          912                 9  \n",
       "2232368             32          631                 9  \n",
       "2232369             32          631                 4  \n",
       "\n",
       "[2232370 rows x 17 columns]"
      ]
     },
     "execution_count": 35,
     "metadata": {},
     "output_type": "execute_result"
    }
   ],
   "source": [
    "emb_data"
   ]
  },
  {
   "cell_type": "code",
   "execution_count": 36,
   "metadata": {},
   "outputs": [],
   "source": [
    "temp = df.drop(cat_vars , axis=1)"
   ]
  },
  {
   "cell_type": "code",
   "execution_count": 39,
   "metadata": {},
   "outputs": [],
   "source": [
    "temp = pd.concat([temp, emb_data] , axis=1)"
   ]
  },
  {
   "cell_type": "code",
   "execution_count": 41,
   "metadata": {},
   "outputs": [],
   "source": [
    "temp.drop(['event_datetime', 'bid_id'] , axis=1, inplace=True)"
   ]
  },
  {
   "cell_type": "code",
   "execution_count": 43,
   "metadata": {},
   "outputs": [],
   "source": [
    "train = temp[temp['day'].isin(list(range(1,10)))]\n",
    "test = temp[temp['day'] == 10]"
   ]
  },
  {
   "cell_type": "code",
   "execution_count": 49,
   "metadata": {},
   "outputs": [],
   "source": [
    "X_train = train.iloc[:, 1:]\n",
    "X_test = test.iloc[:, 1:]\n",
    "y_train = train['click'].values\n",
    "y_test = test['click'].values"
   ]
  },
  {
   "cell_type": "code",
   "execution_count": 50,
   "metadata": {},
   "outputs": [],
   "source": [
    "def get_input_data(data):\n",
    "    result = list()\n",
    "    for i in data.columns:\n",
    "        temp = data[i].values\n",
    "        result.append(temp)\n",
    "    return result"
   ]
  },
  {
   "cell_type": "code",
   "execution_count": 51,
   "metadata": {},
   "outputs": [],
   "source": [
    "X_train = get_input_data(X_train)\n",
    "X_test = get_input_data(X_test)"
   ]
  },
  {
   "cell_type": "code",
   "execution_count": 52,
   "metadata": {},
   "outputs": [],
   "source": [
    "# make output 3d\n",
    "y_train = y_train.reshape((len(y_train), 1, 1))\n",
    "y_test = y_test.reshape((len(y_test), 1, 1))"
   ]
  },
  {
   "cell_type": "code",
   "execution_count": 54,
   "metadata": {},
   "outputs": [],
   "source": [
    "from keras.models import Model\n",
    "from keras.layers import Input\n",
    "from keras.layers import Dense\n",
    "from keras.layers import Embedding\n",
    "from keras.layers.merge import concatenate\n",
    "from keras.utils import plot_model"
   ]
  },
  {
   "cell_type": "code",
   "execution_count": 56,
   "metadata": {},
   "outputs": [
    {
     "name": "stdout",
     "output_type": "stream",
     "text": [
      "WARNING:tensorflow:From C:\\ProgramData\\Anaconda3\\lib\\site-packages\\tensorflow\\python\\framework\\op_def_library.py:263: colocate_with (from tensorflow.python.framework.ops) is deprecated and will be removed in a future version.\n",
      "Instructions for updating:\n",
      "Colocations handled automatically by placer.\n"
     ]
    }
   ],
   "source": [
    "# prepare each input head\n",
    "in_layers = list()\n",
    "em_layers = list()\n",
    "\n",
    "for i in range(len(X_train)):\n",
    "    # calculate the number of unique inputs\n",
    "    n_labels = len(np.unique(X_train[i]))\n",
    "    # define input layer\n",
    "    in_layer = Input(shape=(1,))\n",
    "    # define embedding layer\n",
    "    em_layer = Embedding(n_labels, 10)(in_layer)\n",
    "    # store layers\n",
    "    in_layers.append(in_layer)\n",
    "    em_layers.append(em_layer)"
   ]
  },
  {
   "cell_type": "code",
   "execution_count": 58,
   "metadata": {},
   "outputs": [],
   "source": [
    "# concat all embeddings\n",
    "merge = concatenate(em_layers)\n",
    "dense = Dense(10, activation='relu', kernel_initializer='he_normal')(merge)\n",
    "output = Dense(1, activation='sigmoid')(dense)\n",
    "model = Model(inputs=in_layers, outputs=output)"
   ]
  },
  {
   "cell_type": "code",
   "execution_count": 61,
   "metadata": {},
   "outputs": [],
   "source": [
    "# compile the keras model\n",
    "model.compile(loss='binary_crossentropy', optimizer='adam', metrics=['binary_crossentropy'])"
   ]
  },
  {
   "cell_type": "code",
   "execution_count": 69,
   "metadata": {},
   "outputs": [],
   "source": [
    "X_train = np.array(X_train)\n",
    "X_test = np.array(X_test)"
   ]
  },
  {
   "cell_type": "code",
   "execution_count": 70,
   "metadata": {},
   "outputs": [
    {
     "ename": "ValueError",
     "evalue": "Error when checking model input: the list of Numpy arrays that you are passing to your model is not the size the model expected. Expected to see 36 array(s), but instead got the following list of 1 arrays: [array([[8.0000e+00, 8.0000e+00, 8.0000e+00, ..., 7.0000e+00, 9.0000e+00,\n        3.0000e+00],\n       [0.0000e+00, 0.0000e+00, 0.0000e+00, ..., 1.0000e+00, 0.0000e+00,\n        0.0000e+00],\n       [1.0...",
     "output_type": "error",
     "traceback": [
      "\u001b[1;31m---------------------------------------------------------------------------\u001b[0m",
      "\u001b[1;31mValueError\u001b[0m                                Traceback (most recent call last)",
      "\u001b[1;32m<ipython-input-70-f3b68c900789>\u001b[0m in \u001b[0;36m<module>\u001b[1;34m\u001b[0m\n\u001b[0;32m      1\u001b[0m \u001b[1;31m# fit the keras model on the dataset\u001b[0m\u001b[1;33m\u001b[0m\u001b[1;33m\u001b[0m\u001b[1;33m\u001b[0m\u001b[0m\n\u001b[1;32m----> 2\u001b[1;33m \u001b[0mmodel\u001b[0m\u001b[1;33m.\u001b[0m\u001b[0mfit\u001b[0m\u001b[1;33m(\u001b[0m\u001b[0mX_train\u001b[0m\u001b[1;33m,\u001b[0m \u001b[0my_train\u001b[0m\u001b[1;33m,\u001b[0m \u001b[0mepochs\u001b[0m\u001b[1;33m=\u001b[0m\u001b[1;36m100\u001b[0m\u001b[1;33m,\u001b[0m \u001b[0mbatch_size\u001b[0m\u001b[1;33m=\u001b[0m\u001b[1;36m16\u001b[0m\u001b[1;33m,\u001b[0m \u001b[0mverbose\u001b[0m\u001b[1;33m=\u001b[0m\u001b[1;36m2\u001b[0m\u001b[1;33m)\u001b[0m\u001b[1;33m\u001b[0m\u001b[1;33m\u001b[0m\u001b[0m\n\u001b[0m",
      "\u001b[1;32mC:\\ProgramData\\Anaconda3\\lib\\site-packages\\keras\\engine\\training.py\u001b[0m in \u001b[0;36mfit\u001b[1;34m(self, x, y, batch_size, epochs, verbose, callbacks, validation_split, validation_data, shuffle, class_weight, sample_weight, initial_epoch, steps_per_epoch, validation_steps, **kwargs)\u001b[0m\n\u001b[0;32m    950\u001b[0m             \u001b[0msample_weight\u001b[0m\u001b[1;33m=\u001b[0m\u001b[0msample_weight\u001b[0m\u001b[1;33m,\u001b[0m\u001b[1;33m\u001b[0m\u001b[1;33m\u001b[0m\u001b[0m\n\u001b[0;32m    951\u001b[0m             \u001b[0mclass_weight\u001b[0m\u001b[1;33m=\u001b[0m\u001b[0mclass_weight\u001b[0m\u001b[1;33m,\u001b[0m\u001b[1;33m\u001b[0m\u001b[1;33m\u001b[0m\u001b[0m\n\u001b[1;32m--> 952\u001b[1;33m             batch_size=batch_size)\n\u001b[0m\u001b[0;32m    953\u001b[0m         \u001b[1;31m# Prepare validation data.\u001b[0m\u001b[1;33m\u001b[0m\u001b[1;33m\u001b[0m\u001b[1;33m\u001b[0m\u001b[0m\n\u001b[0;32m    954\u001b[0m         \u001b[0mdo_validation\u001b[0m \u001b[1;33m=\u001b[0m \u001b[1;32mFalse\u001b[0m\u001b[1;33m\u001b[0m\u001b[1;33m\u001b[0m\u001b[0m\n",
      "\u001b[1;32mC:\\ProgramData\\Anaconda3\\lib\\site-packages\\keras\\engine\\training.py\u001b[0m in \u001b[0;36m_standardize_user_data\u001b[1;34m(self, x, y, sample_weight, class_weight, check_array_lengths, batch_size)\u001b[0m\n\u001b[0;32m    749\u001b[0m             \u001b[0mfeed_input_shapes\u001b[0m\u001b[1;33m,\u001b[0m\u001b[1;33m\u001b[0m\u001b[1;33m\u001b[0m\u001b[0m\n\u001b[0;32m    750\u001b[0m             \u001b[0mcheck_batch_axis\u001b[0m\u001b[1;33m=\u001b[0m\u001b[1;32mFalse\u001b[0m\u001b[1;33m,\u001b[0m  \u001b[1;31m# Don't enforce the batch size.\u001b[0m\u001b[1;33m\u001b[0m\u001b[1;33m\u001b[0m\u001b[0m\n\u001b[1;32m--> 751\u001b[1;33m             exception_prefix='input')\n\u001b[0m\u001b[0;32m    752\u001b[0m \u001b[1;33m\u001b[0m\u001b[0m\n\u001b[0;32m    753\u001b[0m         \u001b[1;32mif\u001b[0m \u001b[0my\u001b[0m \u001b[1;32mis\u001b[0m \u001b[1;32mnot\u001b[0m \u001b[1;32mNone\u001b[0m\u001b[1;33m:\u001b[0m\u001b[1;33m\u001b[0m\u001b[1;33m\u001b[0m\u001b[0m\n",
      "\u001b[1;32mC:\\ProgramData\\Anaconda3\\lib\\site-packages\\keras\\engine\\training_utils.py\u001b[0m in \u001b[0;36mstandardize_input_data\u001b[1;34m(data, names, shapes, check_batch_axis, exception_prefix)\u001b[0m\n\u001b[0;32m    100\u001b[0m                 \u001b[1;34m'Expected to see '\u001b[0m \u001b[1;33m+\u001b[0m \u001b[0mstr\u001b[0m\u001b[1;33m(\u001b[0m\u001b[0mlen\u001b[0m\u001b[1;33m(\u001b[0m\u001b[0mnames\u001b[0m\u001b[1;33m)\u001b[0m\u001b[1;33m)\u001b[0m \u001b[1;33m+\u001b[0m \u001b[1;34m' array(s), '\u001b[0m\u001b[1;33m\u001b[0m\u001b[1;33m\u001b[0m\u001b[0m\n\u001b[0;32m    101\u001b[0m                 \u001b[1;34m'but instead got the following list of '\u001b[0m \u001b[1;33m+\u001b[0m\u001b[1;33m\u001b[0m\u001b[1;33m\u001b[0m\u001b[0m\n\u001b[1;32m--> 102\u001b[1;33m                 str(len(data)) + ' arrays: ' + str(data)[:200] + '...')\n\u001b[0m\u001b[0;32m    103\u001b[0m         \u001b[1;32melif\u001b[0m \u001b[0mlen\u001b[0m\u001b[1;33m(\u001b[0m\u001b[0mnames\u001b[0m\u001b[1;33m)\u001b[0m \u001b[1;33m>\u001b[0m \u001b[1;36m1\u001b[0m\u001b[1;33m:\u001b[0m\u001b[1;33m\u001b[0m\u001b[1;33m\u001b[0m\u001b[0m\n\u001b[0;32m    104\u001b[0m             raise ValueError(\n",
      "\u001b[1;31mValueError\u001b[0m: Error when checking model input: the list of Numpy arrays that you are passing to your model is not the size the model expected. Expected to see 36 array(s), but instead got the following list of 1 arrays: [array([[8.0000e+00, 8.0000e+00, 8.0000e+00, ..., 7.0000e+00, 9.0000e+00,\n        3.0000e+00],\n       [0.0000e+00, 0.0000e+00, 0.0000e+00, ..., 1.0000e+00, 0.0000e+00,\n        0.0000e+00],\n       [1.0..."
     ]
    }
   ],
   "source": [
    "# fit the keras model on the dataset\n",
    "model.fit(X_train, y_train, epochs=100, batch_size=16, verbose=2)"
   ]
  },
  {
   "cell_type": "code",
   "execution_count": null,
   "metadata": {},
   "outputs": [],
   "source": []
  }
 ],
 "metadata": {
  "kernelspec": {
   "display_name": "Python 3",
   "language": "python",
   "name": "python3"
  },
  "language_info": {
   "codemirror_mode": {
    "name": "ipython",
    "version": 3
   },
   "file_extension": ".py",
   "mimetype": "text/x-python",
   "name": "python",
   "nbconvert_exporter": "python",
   "pygments_lexer": "ipython3",
   "version": "3.7.1"
  }
 },
 "nbformat": 4,
 "nbformat_minor": 2
}
